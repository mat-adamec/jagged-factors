{
 "cells": [
  {
   "cell_type": "markdown",
   "id": "af031035-3129-4692-9338-49cb6ef1e589",
   "metadata": {},
   "source": [
    "## Setup\n",
    "\n",
    "Before we can compare the methods of columnar analysis and event loops, we need to generate some sample data! For the purposes of this example, we will be using a file that has two columns (or branches, for people familiar with ROOT tree structures): the prime factors up to a number n and the unique divisors of that number. For example, 12 has prime divisors 2, 2, 3 and unique divisors 1, 2, 3, 4, 6, 12.\n",
    "\n",
    "I've included a file to generate this data. You can adjust the value n below to increase the data generated, but 100 data points is sufficient for our purposes.\n",
    "\n",
    "For this, we need primeface (used in the file to generate prime factors) and the Python json package (as the file is written to json)."
   ]
  },
  {
   "cell_type": "code",
   "execution_count": null,
   "id": "8bb3ba6d-7aee-469e-98ae-908a78e92067",
   "metadata": {},
   "outputs": [],
   "source": [
    "!pip install primefac"
   ]
  },
  {
   "cell_type": "code",
   "execution_count": 2,
   "id": "fcb026a2-9837-4089-a608-a31a007128b3",
   "metadata": {},
   "outputs": [],
   "source": [
    "import json"
   ]
  },
  {
   "cell_type": "code",
   "execution_count": 3,
   "id": "2f1a0167-b8ea-4457-8384-e16ec44d4945",
   "metadata": {},
   "outputs": [],
   "source": [
    "from utilities import gen_primes\n",
    "n = 100\n",
    "gen_primes.writer(n, dir='utilities')"
   ]
  },
  {
   "cell_type": "markdown",
   "id": "15bd022c-df3a-44e4-a3f9-05d6c4bfc875",
   "metadata": {},
   "source": [
    "## Event Loops\n",
    "\n",
    "Now we'll be looking at our file \"manually.\" This corresponds to the event loop method of investigating ROOT file contents. We open our file and look at its structure:"
   ]
  },
  {
   "cell_type": "code",
   "execution_count": 4,
   "id": "607fe937-63b8-4c37-816a-34d03677401b",
   "metadata": {},
   "outputs": [],
   "source": [
    "with open('utilities/prime_factors.json') as file:\n",
    "    data = json.load(file)"
   ]
  },
  {
   "cell_type": "markdown",
   "id": "f0d2c03e-90e9-4108-9f2b-e88a3c801707",
   "metadata": {},
   "source": [
    "Note that the structure is jagged. Each subarray is of varying (and arbitrary) size. This is contrast to rectangular arrays, which have the same shape across all axes (e.g., each subarray is the same length)."
   ]
  },
  {
   "cell_type": "code",
   "execution_count": 5,
   "id": "0df321d0-c1ac-4cda-b6d8-8ab6e9fcdc2b",
   "metadata": {},
   "outputs": [
    {
     "data": {
      "text/plain": [
       "{'prime_factors': [[],\n",
       "  [],\n",
       "  [2],\n",
       "  [3],\n",
       "  [2, 2],\n",
       "  [5],\n",
       "  [2, 3],\n",
       "  [7],\n",
       "  [2, 2, 2],\n",
       "  [3, 3],\n",
       "  [2, 5],\n",
       "  [11],\n",
       "  [2, 2, 3],\n",
       "  [13],\n",
       "  [2, 7],\n",
       "  [3, 5],\n",
       "  [2, 2, 2, 2],\n",
       "  [17],\n",
       "  [2, 3, 3],\n",
       "  [19],\n",
       "  [2, 2, 5],\n",
       "  [3, 7],\n",
       "  [2, 11],\n",
       "  [23],\n",
       "  [2, 2, 2, 3],\n",
       "  [5, 5],\n",
       "  [2, 13],\n",
       "  [3, 3, 3],\n",
       "  [2, 2, 7],\n",
       "  [29],\n",
       "  [2, 3, 5],\n",
       "  [31],\n",
       "  [2, 2, 2, 2, 2],\n",
       "  [3, 11],\n",
       "  [2, 17],\n",
       "  [5, 7],\n",
       "  [2, 2, 3, 3],\n",
       "  [37],\n",
       "  [2, 19],\n",
       "  [3, 13],\n",
       "  [2, 2, 2, 5],\n",
       "  [41],\n",
       "  [2, 3, 7],\n",
       "  [43],\n",
       "  [2, 2, 11],\n",
       "  [3, 3, 5],\n",
       "  [2, 23],\n",
       "  [47],\n",
       "  [2, 2, 2, 2, 3],\n",
       "  [7, 7],\n",
       "  [2, 5, 5],\n",
       "  [3, 17],\n",
       "  [2, 2, 13],\n",
       "  [53],\n",
       "  [2, 3, 3, 3],\n",
       "  [5, 11],\n",
       "  [2, 2, 2, 7],\n",
       "  [3, 19],\n",
       "  [2, 29],\n",
       "  [59],\n",
       "  [2, 2, 3, 5],\n",
       "  [61],\n",
       "  [2, 31],\n",
       "  [3, 3, 7],\n",
       "  [2, 2, 2, 2, 2, 2],\n",
       "  [5, 13],\n",
       "  [2, 3, 11],\n",
       "  [67],\n",
       "  [2, 2, 17],\n",
       "  [3, 23],\n",
       "  [2, 5, 7],\n",
       "  [71],\n",
       "  [2, 2, 2, 3, 3],\n",
       "  [73],\n",
       "  [2, 37],\n",
       "  [3, 5, 5],\n",
       "  [2, 2, 19],\n",
       "  [7, 11],\n",
       "  [2, 3, 13],\n",
       "  [79],\n",
       "  [2, 2, 2, 2, 5],\n",
       "  [3, 3, 3, 3],\n",
       "  [2, 41],\n",
       "  [83],\n",
       "  [2, 2, 3, 7],\n",
       "  [5, 17],\n",
       "  [2, 43],\n",
       "  [3, 29],\n",
       "  [2, 2, 2, 11],\n",
       "  [89],\n",
       "  [2, 3, 3, 5],\n",
       "  [7, 13],\n",
       "  [2, 2, 23],\n",
       "  [3, 31],\n",
       "  [2, 47],\n",
       "  [5, 19],\n",
       "  [2, 2, 2, 2, 2, 3],\n",
       "  [97],\n",
       "  [2, 7, 7],\n",
       "  [3, 3, 11],\n",
       "  [2, 2, 5, 5]],\n",
       " 'unique_divisors': [[],\n",
       "  [1],\n",
       "  [1, 2],\n",
       "  [1, 3],\n",
       "  [1, 2, 4],\n",
       "  [1, 5],\n",
       "  [1, 2, 3, 6],\n",
       "  [1, 7],\n",
       "  [1, 2, 4, 8],\n",
       "  [1, 3, 9],\n",
       "  [1, 2, 5, 10],\n",
       "  [1, 11],\n",
       "  [1, 2, 3, 4, 6, 12],\n",
       "  [1, 13],\n",
       "  [1, 2, 7, 14],\n",
       "  [1, 3, 5, 15],\n",
       "  [1, 2, 4, 8, 16],\n",
       "  [1, 17],\n",
       "  [1, 2, 3, 6, 9, 18],\n",
       "  [1, 19],\n",
       "  [1, 2, 4, 5, 10, 20],\n",
       "  [1, 3, 7, 21],\n",
       "  [1, 2, 11, 22],\n",
       "  [1, 23],\n",
       "  [1, 2, 3, 4, 6, 8, 12, 24],\n",
       "  [1, 5, 25],\n",
       "  [1, 2, 13, 26],\n",
       "  [1, 3, 9, 27],\n",
       "  [1, 2, 4, 7, 14, 28],\n",
       "  [1, 29],\n",
       "  [1, 2, 3, 5, 6, 10, 15, 30],\n",
       "  [1, 31],\n",
       "  [1, 2, 4, 8, 16, 32],\n",
       "  [1, 3, 11, 33],\n",
       "  [1, 2, 17, 34],\n",
       "  [1, 5, 7, 35],\n",
       "  [1, 2, 3, 4, 6, 9, 12, 18, 36],\n",
       "  [1, 37],\n",
       "  [1, 2, 19, 38],\n",
       "  [1, 3, 13, 39],\n",
       "  [1, 2, 4, 5, 8, 10, 20, 40],\n",
       "  [1, 41],\n",
       "  [1, 2, 3, 6, 7, 14, 21, 42],\n",
       "  [1, 43],\n",
       "  [1, 2, 4, 11, 22, 44],\n",
       "  [1, 3, 5, 9, 15, 45],\n",
       "  [1, 2, 23, 46],\n",
       "  [1, 47],\n",
       "  [1, 2, 3, 4, 6, 8, 12, 16, 24, 48],\n",
       "  [1, 7, 49],\n",
       "  [1, 2, 5, 10, 25, 50],\n",
       "  [1, 3, 17, 51],\n",
       "  [1, 2, 4, 13, 26, 52],\n",
       "  [1, 53],\n",
       "  [1, 2, 3, 6, 9, 18, 27, 54],\n",
       "  [1, 5, 11, 55],\n",
       "  [1, 2, 4, 7, 8, 14, 28, 56],\n",
       "  [1, 3, 19, 57],\n",
       "  [1, 2, 29, 58],\n",
       "  [1, 59],\n",
       "  [1, 2, 3, 4, 5, 6, 10, 12, 15, 20, 30, 60],\n",
       "  [1, 61],\n",
       "  [1, 2, 31, 62],\n",
       "  [1, 3, 7, 9, 21, 63],\n",
       "  [1, 2, 4, 8, 16, 32, 64],\n",
       "  [1, 5, 13, 65],\n",
       "  [1, 2, 3, 6, 11, 22, 33, 66],\n",
       "  [1, 67],\n",
       "  [1, 2, 4, 17, 34, 68],\n",
       "  [1, 3, 23, 69],\n",
       "  [1, 2, 5, 7, 10, 14, 35, 70],\n",
       "  [1, 71],\n",
       "  [1, 2, 3, 4, 6, 8, 9, 12, 18, 24, 36, 72],\n",
       "  [1, 73],\n",
       "  [1, 2, 37, 74],\n",
       "  [1, 3, 5, 15, 25, 75],\n",
       "  [1, 2, 4, 19, 38, 76],\n",
       "  [1, 7, 11, 77],\n",
       "  [1, 2, 3, 6, 13, 26, 39, 78],\n",
       "  [1, 79],\n",
       "  [1, 2, 4, 5, 8, 10, 16, 20, 40, 80],\n",
       "  [1, 3, 9, 27, 81],\n",
       "  [1, 2, 41, 82],\n",
       "  [1, 83],\n",
       "  [1, 2, 3, 4, 6, 7, 12, 14, 21, 28, 42, 84],\n",
       "  [1, 5, 17, 85],\n",
       "  [1, 2, 43, 86],\n",
       "  [1, 3, 29, 87],\n",
       "  [1, 2, 4, 8, 11, 22, 44, 88],\n",
       "  [1, 89],\n",
       "  [1, 2, 3, 5, 6, 9, 10, 15, 18, 30, 45, 90],\n",
       "  [1, 7, 13, 91],\n",
       "  [1, 2, 4, 23, 46, 92],\n",
       "  [1, 3, 31, 93],\n",
       "  [1, 2, 47, 94],\n",
       "  [1, 5, 19, 95],\n",
       "  [1, 2, 3, 4, 6, 8, 12, 16, 24, 32, 48, 96],\n",
       "  [1, 97],\n",
       "  [1, 2, 7, 14, 49, 98],\n",
       "  [1, 3, 9, 11, 33, 99],\n",
       "  [1, 2, 4, 5, 10, 20, 25, 50, 100]]}"
      ]
     },
     "execution_count": 5,
     "metadata": {},
     "output_type": "execute_result"
    }
   ],
   "source": [
    "data"
   ]
  },
  {
   "cell_type": "markdown",
   "id": "c3cb296b-e58c-4b00-bc1e-7048b04773e1",
   "metadata": {},
   "source": [
    "And now, if we want to do any selections, we loop through the data explicitly to handle our cut. Let's say we want to select the numbers which have 3 as a prime factor and at least four unique divisors. Then we'd do something like:"
   ]
  },
  {
   "cell_type": "code",
   "execution_count": 16,
   "id": "9e05abce-f0fa-4af5-924b-41fbbcfdea72",
   "metadata": {},
   "outputs": [
    {
     "data": {
      "text/plain": [
       "[(12, [1, 2, 3, 4, 6, 12]),\n",
       " (18, [1, 2, 3, 6, 9, 18]),\n",
       " (24, [1, 2, 3, 4, 6, 8, 12, 24]),\n",
       " (30, [1, 2, 3, 5, 6, 10, 15, 30]),\n",
       " (36, [1, 2, 3, 4, 6, 9, 12, 18, 36]),\n",
       " (42, [1, 2, 3, 6, 7, 14, 21, 42]),\n",
       " (45, [1, 3, 5, 9, 15, 45]),\n",
       " (48, [1, 2, 3, 4, 6, 8, 12, 16, 24, 48]),\n",
       " (54, [1, 2, 3, 6, 9, 18, 27, 54]),\n",
       " (60, [1, 2, 3, 4, 5, 6, 10, 12, 15, 20, 30, 60]),\n",
       " (63, [1, 3, 7, 9, 21, 63]),\n",
       " (66, [1, 2, 3, 6, 11, 22, 33, 66]),\n",
       " (72, [1, 2, 3, 4, 6, 8, 9, 12, 18, 24, 36, 72]),\n",
       " (75, [1, 3, 5, 15, 25, 75]),\n",
       " (78, [1, 2, 3, 6, 13, 26, 39, 78]),\n",
       " (81, [1, 3, 9, 27, 81]),\n",
       " (84, [1, 2, 3, 4, 6, 7, 12, 14, 21, 28, 42, 84]),\n",
       " (90, [1, 2, 3, 5, 6, 9, 10, 15, 18, 30, 45, 90]),\n",
       " (96, [1, 2, 3, 4, 6, 8, 12, 16, 24, 32, 48, 96]),\n",
       " (99, [1, 3, 9, 11, 33, 99])]"
      ]
     },
     "execution_count": 16,
     "metadata": {},
     "output_type": "execute_result"
    }
   ],
   "source": [
    "# Okay. Let's say we want to select only numbers that have 3 as a prime factor and at least four unique divisors. The event loop method would be:\n",
    "cut = []\n",
    "for i in range(n):\n",
    "    if (3 in data['prime_factors'][i]) & (len(data['unique_divisors'][i]) > 4):\n",
    "        cut.append((i, data['unique_divisors'][i]))\n",
    "cut                                                            "
   ]
  },
  {
   "cell_type": "markdown",
   "id": "5bc69a32-06ca-409f-96dd-cabcaa07c113",
   "metadata": {},
   "source": [
    "This isn't too complicated, but with more columnss and higher dimensions (as we have in high-energy physics!), it gets more burdensome. \n",
    "\n",
    "## Columns\n",
    "\n",
    "Columnar analysis is a much simpler alternative which is increasingly popular throughout data science. Packages like **numpy** and **pandas** are the standards for columnar analysis, but our data is jagged, and they can only handle rectangular data. In HEP, we have a package called **awkward** that can handle jagged arrays."
   ]
  },
  {
   "cell_type": "code",
   "execution_count": 17,
   "id": "f6681d76-a32f-444d-a38c-bf49f35251af",
   "metadata": {},
   "outputs": [],
   "source": [
    "import awkward as ak\n",
    "data = ak.from_json('utilities/prime_factors.json')"
   ]
  },
  {
   "cell_type": "markdown",
   "id": "4abaf2b9-9349-4228-b0fb-03ab8ce69349",
   "metadata": {},
   "source": [
    "In the columnar mode of analysis, our data is interpreted in a slightly different fashion. Instead of reading it in number-by-number as in the event loop, we read it in by its columnar keys (e.g., prime_factors and unique_divisors). These keys become the fields of our awkward array.\n",
    "\n",
    "We look at this mode below:"
   ]
  },
  {
   "cell_type": "code",
   "execution_count": 60,
   "id": "2d006e88-3da1-4c0f-a79f-1412ce5c2944",
   "metadata": {},
   "outputs": [
    {
     "data": {
      "text/plain": [
       "<Record ... 1, 2, 4, 5, 10, 20, 25, 50, 100]]} type='{\"prime_factors\": var * var...'>"
      ]
     },
     "execution_count": 60,
     "metadata": {},
     "output_type": "execute_result"
    }
   ],
   "source": [
    "data"
   ]
  },
  {
   "cell_type": "code",
   "execution_count": 61,
   "id": "8c19ba9b-aa15-4362-b7a8-1eba749cffbd",
   "metadata": {},
   "outputs": [
    {
     "data": {
      "text/plain": [
       "['prime_factors', 'unique_divisors']"
      ]
     },
     "execution_count": 61,
     "metadata": {},
     "output_type": "execute_result"
    }
   ],
   "source": [
    "data.fields"
   ]
  },
  {
   "cell_type": "code",
   "execution_count": 62,
   "id": "7a1e4b33-2251-43d8-a615-692463a12a17",
   "metadata": {},
   "outputs": [
    {
     "data": {
      "text/plain": [
       "(<Array [[], [], [2], [3, ... 11], [2, 2, 5, 5]] type='101 * var * int64'>,\n",
       " <Array [[], [1], [1, ... 10, 20, 25, 50, 100]] type='101 * var * int64'>)"
      ]
     },
     "execution_count": 62,
     "metadata": {},
     "output_type": "execute_result"
    }
   ],
   "source": [
    "data.prime_factors, data.unique_divisors"
   ]
  },
  {
   "cell_type": "markdown",
   "id": "14740144-ebc5-49b7-91e0-0554f23279a5",
   "metadata": {},
   "source": [
    "To do the same selection as above (numbers with 3 as a prime factor and more than 4 unique divisors), we'd only have to do one line now. There is **no** explicit loop. Awkward (like numpy) has its own syntax that replaces the standard Pythonic loops/conditionals. Loops are done implicitly in C, which makes both packages more efficient than normal Python code."
   ]
  },
  {
   "cell_type": "code",
   "execution_count": 47,
   "id": "8f2529ab-55fa-4f71-a0c3-a7202cfc1676",
   "metadata": {},
   "outputs": [
    {
     "data": {
      "text/plain": [
       "<Array [[1, 2, 3, 4, 6, ... 3, 9, 11, 33, 99]] type='20 * var * int64'>"
      ]
     },
     "execution_count": 47,
     "metadata": {},
     "output_type": "execute_result"
    }
   ],
   "source": [
    "cut = data[(ak.sum(data.prime_factors == 3, axis=1) > 0) & (ak.num(data.unique_divisors) > 4)]\n",
    "cut.unique_divisors"
   ]
  },
  {
   "cell_type": "markdown",
   "id": "bc800917-0dad-4704-9ac8-e1f6ac01491c",
   "metadata": {},
   "source": [
    "Truncation gets a bit in the way of seeing whether this is identical to our output above. We can loop through to print line-by-line to bypass truncation, but this isn't necessary to actually use the data (it's only an aesthetic issue!)"
   ]
  },
  {
   "cell_type": "code",
   "execution_count": 58,
   "id": "98be30c4-bba0-4c85-be18-67de6fbf94d2",
   "metadata": {},
   "outputs": [
    {
     "name": "stdout",
     "output_type": "stream",
     "text": [
      "[1, 2, 3, 4, 6, 12]\n",
      "[1, 2, 3, 6, 9, 18]\n",
      "[1, 2, 3, 4, 6, 8, 12, 24]\n",
      "[1, 2, 3, 5, 6, 10, 15, 30]\n",
      "[1, 2, 3, 4, 6, 9, 12, 18, 36]\n",
      "[1, 2, 3, 6, 7, 14, 21, 42]\n",
      "[1, 3, 5, 9, 15, 45]\n",
      "[1, 2, 3, 4, 6, 8, 12, 16, 24, 48]\n",
      "[1, 2, 3, 6, 9, 18, 27, 54]\n",
      "[1, 2, 3, 4, 5, 6, 10, 12, 15, 20, 30, 60]\n",
      "[1, 3, 7, 9, 21, 63]\n",
      "[1, 2, 3, 6, 11, 22, 33, 66]\n",
      "[1, 2, 3, 4, 6, 8, 9, 12, 18, 24, 36, 72]\n",
      "[1, 3, 5, 15, 25, 75]\n",
      "[1, 2, 3, 6, 13, 26, 39, 78]\n",
      "[1, 3, 9, 27, 81]\n",
      "[1, 2, 3, 4, 6, 7, 12, 14, 21, 28, 42, 84]\n",
      "[1, 2, 3, 5, 6, 9, 10, 15, 18, 30, 45, 90]\n",
      "[1, 2, 3, 4, 6, 8, 12, 16, 24, 32, 48, 96]\n",
      "[1, 3, 9, 11, 33, 99]\n"
     ]
    }
   ],
   "source": [
    "for i in range(ak.size(cut.unique_divisors, axis=0)):\n",
    "    print(cut.unique_divisors[i])"
   ]
  },
  {
   "cell_type": "markdown",
   "id": "1ee6f37b-c036-4087-b891-21a3aaa84e7a",
   "metadata": {},
   "source": [
    "Which is indeed identical!"
   ]
  }
 ],
 "metadata": {
  "kernelspec": {
   "display_name": "Python 3 (ipykernel)",
   "language": "python",
   "name": "python3"
  },
  "language_info": {
   "codemirror_mode": {
    "name": "ipython",
    "version": 3
   },
   "file_extension": ".py",
   "mimetype": "text/x-python",
   "name": "python",
   "nbconvert_exporter": "python",
   "pygments_lexer": "ipython3",
   "version": "3.8.13"
  }
 },
 "nbformat": 4,
 "nbformat_minor": 5
}
